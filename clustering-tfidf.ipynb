{
 "cells": [
  {
   "cell_type": "markdown",
   "metadata": {},
   "source": [
    "# Agrupamento de Leis Brasileiras usando TF-IDF e K-Means\n",
    "\n",
    "Neste notebook, exploramos o agrupamento de leis brasileiras.\n",
    "\n",
    "Utilizamos o método TF-IDF (Term Frequency-Inverse Document Frequency) para transformar os textos em representações numéricas. Esse método pondera as palavras do documento com base em sua frequência, ajudando a destacar termos importantes.\n",
    "\n",
    "Posteriormente, usamos o algoritmo K-Means para agrupar os textos. K-Means é um método de clusterização que segmenta os dados em grupos distintos com base em suas características.\n",
    "\n",
    "## Importando as bibliotecas"
   ]
  },
  {
   "cell_type": "code",
   "execution_count": 9,
   "metadata": {},
   "outputs": [],
   "source": [
    "import pandas as pd\n",
    "import numpy as np\n",
    "from sklearn.feature_extraction.text import TfidfVectorizer\n",
    "from sklearn.cluster import KMeans\n",
    "import matplotlib.pyplot as plt"
   ]
  },
  {
   "cell_type": "markdown",
   "metadata": {},
   "source": [
    "## Preparação dos Dados\n",
    "\n",
    "Carregamos e preparamos os dados para a clusterização. Também removemos termos irrelevantes para focar nas palavras-chave."
   ]
  },
  {
   "cell_type": "code",
   "execution_count": 12,
   "metadata": {},
   "outputs": [
    {
     "data": {
      "text/html": [
       "<div>\n",
       "<style scoped>\n",
       "    .dataframe tbody tr th:only-of-type {\n",
       "        vertical-align: middle;\n",
       "    }\n",
       "\n",
       "    .dataframe tbody tr th {\n",
       "        vertical-align: top;\n",
       "    }\n",
       "\n",
       "    .dataframe thead th {\n",
       "        text-align: right;\n",
       "    }\n",
       "</style>\n",
       "<table border=\"1\" class=\"dataframe\">\n",
       "  <thead>\n",
       "    <tr style=\"text-align: right;\">\n",
       "      <th></th>\n",
       "      <th>summary</th>\n",
       "    </tr>\n",
       "  </thead>\n",
       "  <tbody>\n",
       "    <tr>\n",
       "      <th>0</th>\n",
       "      <td>denominação José antonio pascoto via público</td>\n",
       "    </tr>\n",
       "    <tr>\n",
       "      <th>1</th>\n",
       "      <td>denominação vitor hage via público</td>\n",
       "    </tr>\n",
       "    <tr>\n",
       "      <th>2</th>\n",
       "      <td>denominação lisardo cunha dia via público</td>\n",
       "    </tr>\n",
       "    <tr>\n",
       "      <th>3</th>\n",
       "      <td>denominação Desirre Ferraz Cardoso via público...</td>\n",
       "    </tr>\n",
       "    <tr>\n",
       "      <th>4</th>\n",
       "      <td>instituir calendário oficial município dia soc...</td>\n",
       "    </tr>\n",
       "  </tbody>\n",
       "</table>\n",
       "</div>"
      ],
      "text/plain": [
       "                                             summary\n",
       "0       denominação José antonio pascoto via público\n",
       "1                 denominação vitor hage via público\n",
       "2          denominação lisardo cunha dia via público\n",
       "3  denominação Desirre Ferraz Cardoso via público...\n",
       "4  instituir calendário oficial município dia soc..."
      ]
     },
     "execution_count": 12,
     "metadata": {},
     "output_type": "execute_result"
    }
   ],
   "source": [
    "# Carregando os dados\n",
    "df = pd.read_csv(\"./data/Leis de Sorocaba (Clean).csv\")\n",
    "\n",
    "# Preenchendo os valores nulos com uma string vazia:\n",
    "df['summary'] = df['summary'].fillna('')\n",
    "\n",
    "# Remover termos irrelevantes:\n",
    "remove_phrases = ['dispor sobre', 'dar outro providência', 'dar outro providencia']\n",
    "remove_phrases_regex = '|'.join(remove_phrases)\n",
    "df['summary'] = df['summary'].str.replace(remove_phrases_regex, ' ', regex=True).str.strip()\n",
    "\n",
    "# Verificando as primeiras linhas do dataframe:\n",
    "df.head()"
   ]
  },
  {
   "cell_type": "markdown",
   "metadata": {},
   "source": [
    "## Representação TF-IDF\n",
    "\n",
    "Vamos transformar os textos em uma representação numérica usando TF-IDF."
   ]
  },
  {
   "cell_type": "code",
   "execution_count": 30,
   "metadata": {},
   "outputs": [],
   "source": [
    "vectorizer = TfidfVectorizer(max_features=1000)\n",
    "X = vectorizer.fit_transform(df['summary'])"
   ]
  },
  {
   "cell_type": "markdown",
   "metadata": {},
   "source": [
    "## Clusterização com K-Means\n",
    "\n",
    "Agora, vamos usar o algoritmo K-Means para agrupar os textos."
   ]
  },
  {
   "cell_type": "code",
   "execution_count": 39,
   "metadata": {},
   "outputs": [],
   "source": [
    "# Definindo o número de clusters de acordo com os grupos temáticos.\n",
    "# Este número pode ser ajustado com base em experimentações.\n",
    "n_clusters = 11\n",
    "kmeans = KMeans(n_clusters=n_clusters, n_init=10, random_state=42).fit(X)\n",
    "df['cluster'] = kmeans.labels_"
   ]
  },
  {
   "cell_type": "markdown",
   "metadata": {},
   "source": [
    "## Análise dos Clusters"
   ]
  },
  {
   "cell_type": "code",
   "execution_count": 40,
   "metadata": {},
   "outputs": [
    {
     "data": {
      "image/png": "[encoded data removed]",
      "text/plain": [
       "<Figure size 640x480 with 1 Axes>"
      ]
     },
     "metadata": {},
     "output_type": "display_data"
    }
   ],
   "source": [
    "# Visualizando a distribuição dos clusters\n",
    "df['cluster'].value_counts().plot(kind='bar')\n",
    "plt.title('Distribuição dos Clusters')\n",
    "plt.xlabel('Cluster')\n",
    "plt.ylabel('Número de Textos')\n",
    "plt.show()"
   ]
  },
  {
   "cell_type": "markdown",
   "metadata": {},
   "source": [
    "Vamos visualizar os principais termos e documentos em cada cluster."
   ]
  },
  {
   "cell_type": "code",
   "execution_count": 41,
   "metadata": {},
   "outputs": [
    {
     "name": "stdout",
     "output_type": "stream",
     "text": [
      "Cluster 0:\n",
      "\n",
      "10    obrigatoriedade empresa concessionária fornece...\n",
      "18    programa serviço fisioterapia domiciliar assis...\n",
      "19    normatização fornecimento cesta básico aliment...\n",
      "22    instituição área especial interesse social hab...\n",
      "26    alteração denominação escola municipal localiz...\n",
      "Name: summary, dtype: object\n",
      "\n",
      "==================================================\n",
      "\n",
      "Cluster 1:\n",
      "\n",
      "0          denominação José antonio pascoto via público\n",
      "1                    denominação vitor hage via público\n",
      "2             denominação lisardo cunha dia via público\n",
      "3     denominação Desirre Ferraz Cardoso via público...\n",
      "28    denominação Benedito Pereira gomes via público...\n",
      "Name: summary, dtype: object\n",
      "\n",
      "==================================================\n",
      "\n",
      "Cluster 2:\n",
      "\n",
      "5     alterar redação artigo 7 8 9 10 lei municipal ...\n",
      "16    alterar redação artigo 2 lei municipal Nº 1271...\n",
      "32    alterar redação inciso ii artigo 2 lei Nº 9807...\n",
      "33    alterar artigo 97 lei Nº 5271 TOKEN_DATA   fun...\n",
      "34    alterar redação artigo 43 lei Nº 8627 TOKEN_DA...\n",
      "Name: summary, dtype: object\n",
      "\n",
      "==================================================\n",
      "\n",
      "Cluster 3:\n",
      "\n",
      "11     declarar utilidade público casa cattanir insti...\n",
      "15     declarar utilidade público Associação atlético...\n",
      "30     declarar utilidade público Associação arte mar...\n",
      "36     declarar utilidade público organização governa...\n",
      "100    declarar utilidade público entidade fazer arte...\n",
      "Name: summary, dtype: object\n",
      "\n",
      "==================================================\n",
      "\n",
      "Cluster 4:\n",
      "\n",
      "510     concessão revisão perda inflacionário reajuste...\n",
      "519     concessão revisão perda inflacionário reajuste...\n",
      "634     concessão reajuste vencimento servidor público...\n",
      "952     concessão reajuste vencimento servidor público...\n",
      "1119    concessão reajuste vencimento servidor público...\n",
      "Name: summary, dtype: object\n",
      "\n",
      "==================================================\n",
      "\n",
      "Cluster 5:\n",
      "\n",
      "57     autorizar município Sorocaba celebrar convênio...\n",
      "251    alterar dispositivo lei Nº 12412 TOKEN_DATA au...\n",
      "266    autorizar poder executivo municipal receber im...\n",
      "353    alterar dispositivo lei Nº 12412 TOKEN_DATA au...\n",
      "400    autorizar município Sorocaba celebrar convênio...\n",
      "Name: summary, dtype: object\n",
      "\n",
      "==================================================\n",
      "\n",
      "Cluster 6:\n",
      "\n",
      "24     autorizar poder executivo instituir programa t...\n",
      "208    autorizar poder executivo abrir crédito adicio...\n",
      "277    autorizar poder executivo receber via transfer...\n",
      "284    concessão revisão perda inflacionário vencimen...\n",
      "287    autorizar município alienar bem público conces...\n",
      "Name: summary, dtype: object\n",
      "\n",
      "==================================================\n",
      "\n",
      "Cluster 7:\n",
      "\n",
      "146    desafetação bem público uso especial autorizar...\n",
      "147    desafetação bem público uso especial autorizar...\n",
      "149    desafetação bem público uso especial autorizar...\n",
      "294    desafetação bem público uso comum povo autoriz...\n",
      "517    desafetação bem público uso especial autorizar...\n",
      "Name: summary, dtype: object\n",
      "\n",
      "==================================================\n",
      "\n",
      "Cluster 8:\n",
      "\n",
      "8      estabelecer estrutura funcionamento conselho t...\n",
      "25     alterar dispositivo lei Nº 12099 TOKEN_DATA es...\n",
      "92     estabelecer desconto sobre valor tarifa pequen...\n",
      "99     norma execução serviço transporte escolar grat...\n",
      "129    instalação câmera monitoramento segurança esco...\n",
      "Name: summary, dtype: object\n",
      "\n",
      "==================================================\n",
      "\n",
      "Cluster 9:\n",
      "\n",
      "665     autorizar poder executivo abrir crédito adicio...\n",
      "3209      autorização abertura crédito adicional especial\n",
      "3591        autorizar abertura crédito adicional especial\n",
      "3622    autorização abertura crédito adicional supleme...\n",
      "3741      autorização abertura crédito adicional especial\n",
      "Name: summary, dtype: object\n",
      "\n",
      "==================================================\n",
      "\n",
      "Cluster 10:\n",
      "\n",
      "4     instituir calendário oficial município dia soc...\n",
      "6     instituir patrimônio cultural imaterial cidade...\n",
      "7     instituir inserir calendário oficial município...\n",
      "9     instituir plataforma cur canal unificar remédi...\n",
      "12    instituir patrimônio cultural material cidade ...\n",
      "Name: summary, dtype: object\n",
      "\n",
      "==================================================\n",
      "\n"
     ]
    }
   ],
   "source": [
    "for i in range(n_clusters):\n",
    "    print(f\"Cluster {i}:\\n\")\n",
    "    print(df[df['cluster'] == i]['summary'].head(5))\n",
    "    print(\"\\n\" + \"=\"*50 + \"\\n\")"
   ]
  },
  {
   "cell_type": "markdown",
   "metadata": {},
   "source": [
    "Para entender melhor cada cluster, identificamos as palavras-chave mais importantes."
   ]
  },
  {
   "cell_type": "code",
   "execution_count": 42,
   "metadata": {},
   "outputs": [
    {
     "name": "stdout",
     "output_type": "stream",
     "text": [
      "\n",
      "Cluster 0\n",
      "cargo,rua,concessão,praça,criação,próprio,público,cidade,municipal,denominação\n",
      "\n",
      "Cluster 1\n",
      "praça,joão,oliveira,silva,maria,josé,público,cidade,denominação,via\n",
      "\n",
      "Cluster 2\n",
      "novo,dar,alteração,revogação,redação,alterar,artigo,nº,token_data,lei\n",
      "\n",
      "Cluster 3\n",
      "beneficente,centro,amigo,sociedade,clube,sorocaba,associação,público,declarar,utilidade\n",
      "\n",
      "Cluster 4\n",
      "funcionário,sorocaba,público,concessão,câmara,municipal,vencimento,salarial,funcionalismo,reajuste\n",
      "\n",
      "Cluster 5\n",
      "sorocaba,governo,executivo,celebração,secretaria,paulo,autorizar,celebrar,estado,convênio\n",
      "\n",
      "Cluster 6\n",
      "administrativo,imóvel,poder,executivo,celebrar,convênio,sorocaba,municipal,autorizar,prefeitura\n",
      "\n",
      "Cluster 7\n",
      "permuta,direito,real,comum,doação,autorizar,desafetação,bem,uso,imóvel\n",
      "\n",
      "Cluster 8\n",
      "estabelecimento,sorocaba,exercício,elaboração,orçamentário,município,diretriz,norma,instalação,estabelecer\n",
      "\n",
      "Cluster 9\n",
      "autorizar,abrir,cr,token_valor,autorização,adicional,suplementar,especial,crédito,abertura\n",
      "\n",
      "Cluster 10\n",
      "fixo,exercício,âmbito,municipal,instituição,semana,dia,instituir,sorocaba,município\n"
     ]
    }
   ],
   "source": [
    "def top_terms_per_cluster(X, clusters, n_terms=10):\n",
    "    df = pd.DataFrame(X.todense()).groupby(clusters).mean()\n",
    "    for i, r in df.iterrows():\n",
    "        print('\\nCluster {}'.format(i))\n",
    "        print(','.join([vectorizer.get_feature_names_out()[t] for t in np.argsort(r)[-n_terms:]]))\n",
    "\n",
    "top_terms_per_cluster(X, df['cluster'])"
   ]
  },
  {
   "cell_type": "markdown",
   "metadata": {},
   "source": [
    "## Conclusão\n",
    "\n",
    "Realizamos a clusterização de leis brasileiras usando TF-IDF e K-Means, transformando textos em representações numéricas e agrupando-os em clusters com base em suas características. As palavras-chave de cada cluster fornecem insights sobre os principais temas ou tópicos abordados em cada grupo.\n"
   ]
  }
 ],
 "metadata": {
  "kernelspec": {
   "display_name": "Python 3 (ipykernel)",
   "language": "python",
   "name": "python3"
  },
  "language_info": {
   "codemirror_mode": {
    "name": "ipython",
    "version": 3
   },
   "file_extension": ".py",
   "mimetype": "text/x-python",
   "name": "python",
   "nbconvert_exporter": "python",
   "pygments_lexer": "ipython3",
   "version": "3.11.5"
  },
  "orig_nbformat": 4
 },
 "nbformat": 4,
 "nbformat_minor": 2
}
