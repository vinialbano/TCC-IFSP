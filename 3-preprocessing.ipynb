{
  "cells": [
    {
      "cell_type": "markdown",
      "metadata": {
        "id": "BZVUUMF5V3mL"
      },
      "source": [
        "# **Pré-requisitos**"
      ]
    },
    {
      "cell_type": "code",
      "execution_count": 1,
      "metadata": {
        "colab": {
          "base_uri": "https://localhost:8080/",
          "height": 1000
        },
        "id": "Ku9Moz4aZ3hC",
        "outputId": "d0204abb-802a-4efd-cbab-16b373000459"
      },
      "outputs": [
        {
          "name": "stdout",
          "output_type": "stream",
          "text": [
            "Requirement already satisfied: nltk in /opt/conda/lib/python3.11/site-packages (3.8.1)\n",
            "Requirement already satisfied: click in /opt/conda/lib/python3.11/site-packages (from nltk) (8.1.7)\n",
            "Requirement already satisfied: joblib in /opt/conda/lib/python3.11/site-packages (from nltk) (1.3.2)\n",
            "Requirement already satisfied: regex>=2021.8.3 in /opt/conda/lib/python3.11/site-packages (from nltk) (2023.8.8)\n",
            "Requirement already satisfied: tqdm in /opt/conda/lib/python3.11/site-packages (from nltk) (4.66.1)\n",
            "Note: you may need to restart the kernel to use updated packages.\n",
            "Requirement already satisfied: spacy in /opt/conda/lib/python3.11/site-packages (3.6.1)\n",
            "Requirement already satisfied: spacy-legacy<3.1.0,>=3.0.11 in /opt/conda/lib/python3.11/site-packages (from spacy) (3.0.12)\n",
            "Requirement already satisfied: spacy-loggers<2.0.0,>=1.0.0 in /opt/conda/lib/python3.11/site-packages (from spacy) (1.0.5)\n",
            "Requirement already satisfied: murmurhash<1.1.0,>=0.28.0 in /opt/conda/lib/python3.11/site-packages (from spacy) (1.0.10)\n",
            "Requirement already satisfied: cymem<2.1.0,>=2.0.2 in /opt/conda/lib/python3.11/site-packages (from spacy) (2.0.8)\n",
            "Requirement already satisfied: preshed<3.1.0,>=3.0.2 in /opt/conda/lib/python3.11/site-packages (from spacy) (3.0.9)\n",
            "Requirement already satisfied: thinc<8.2.0,>=8.1.8 in /opt/conda/lib/python3.11/site-packages (from spacy) (8.1.12)\n",
            "Requirement already satisfied: wasabi<1.2.0,>=0.9.1 in /opt/conda/lib/python3.11/site-packages (from spacy) (1.1.2)\n",
            "Requirement already satisfied: srsly<3.0.0,>=2.4.3 in /opt/conda/lib/python3.11/site-packages (from spacy) (2.4.7)\n",
            "Requirement already satisfied: catalogue<2.1.0,>=2.0.6 in /opt/conda/lib/python3.11/site-packages (from spacy) (2.0.9)\n",
            "Requirement already satisfied: typer<0.10.0,>=0.3.0 in /opt/conda/lib/python3.11/site-packages (from spacy) (0.9.0)\n",
            "Requirement already satisfied: pathy>=0.10.0 in /opt/conda/lib/python3.11/site-packages (from spacy) (0.10.2)\n",
            "Requirement already satisfied: smart-open<7.0.0,>=5.2.1 in /opt/conda/lib/python3.11/site-packages (from spacy) (6.4.0)\n",
            "Requirement already satisfied: tqdm<5.0.0,>=4.38.0 in /opt/conda/lib/python3.11/site-packages (from spacy) (4.66.1)\n",
            "Requirement already satisfied: numpy>=1.15.0 in /opt/conda/lib/python3.11/site-packages (from spacy) (1.24.3)\n",
            "Requirement already satisfied: requests<3.0.0,>=2.13.0 in /opt/conda/lib/python3.11/site-packages (from spacy) (2.31.0)\n",
            "Requirement already satisfied: pydantic!=1.8,!=1.8.1,<3.0.0,>=1.7.4 in /opt/conda/lib/python3.11/site-packages (from spacy) (2.3.0)\n",
            "Requirement already satisfied: jinja2 in /opt/conda/lib/python3.11/site-packages (from spacy) (3.1.2)\n",
            "Requirement already satisfied: setuptools in /opt/conda/lib/python3.11/site-packages (from spacy) (68.1.2)\n",
            "Requirement already satisfied: packaging>=20.0 in /opt/conda/lib/python3.11/site-packages (from spacy) (23.1)\n",
            "Requirement already satisfied: langcodes<4.0.0,>=3.2.0 in /opt/conda/lib/python3.11/site-packages (from spacy) (3.3.0)\n",
            "Requirement already satisfied: annotated-types>=0.4.0 in /opt/conda/lib/python3.11/site-packages (from pydantic!=1.8,!=1.8.1,<3.0.0,>=1.7.4->spacy) (0.5.0)\n",
            "Requirement already satisfied: pydantic-core==2.6.3 in /opt/conda/lib/python3.11/site-packages (from pydantic!=1.8,!=1.8.1,<3.0.0,>=1.7.4->spacy) (2.6.3)\n",
            "Requirement already satisfied: typing-extensions>=4.6.1 in /opt/conda/lib/python3.11/site-packages (from pydantic!=1.8,!=1.8.1,<3.0.0,>=1.7.4->spacy) (4.7.1)\n",
            "Requirement already satisfied: charset-normalizer<4,>=2 in /opt/conda/lib/python3.11/site-packages (from requests<3.0.0,>=2.13.0->spacy) (3.2.0)\n",
            "Requirement already satisfied: idna<4,>=2.5 in /opt/conda/lib/python3.11/site-packages (from requests<3.0.0,>=2.13.0->spacy) (3.4)\n",
            "Requirement already satisfied: urllib3<3,>=1.21.1 in /opt/conda/lib/python3.11/site-packages (from requests<3.0.0,>=2.13.0->spacy) (1.26.16)\n",
            "Requirement already satisfied: certifi>=2017.4.17 in /opt/conda/lib/python3.11/site-packages (from requests<3.0.0,>=2.13.0->spacy) (2023.7.22)\n",
            "Requirement already satisfied: blis<0.8.0,>=0.7.8 in /opt/conda/lib/python3.11/site-packages (from thinc<8.2.0,>=8.1.8->spacy) (0.7.10)\n",
            "Requirement already satisfied: confection<1.0.0,>=0.0.1 in /opt/conda/lib/python3.11/site-packages (from thinc<8.2.0,>=8.1.8->spacy) (0.1.3)\n",
            "Requirement already satisfied: click<9.0.0,>=7.1.1 in /opt/conda/lib/python3.11/site-packages (from typer<0.10.0,>=0.3.0->spacy) (8.1.7)\n",
            "Requirement already satisfied: MarkupSafe>=2.0 in /opt/conda/lib/python3.11/site-packages (from jinja2->spacy) (2.1.3)\n",
            "Note: you may need to restart the kernel to use updated packages.\n",
            "Collecting pt-core-news-sm==3.6.0\n",
            "  Downloading https://github.com/explosion/spacy-models/releases/download/pt_core_news_sm-3.6.0/pt_core_news_sm-3.6.0-py3-none-any.whl (13.0 MB)\n",
            "\u001b[2K     \u001b[90m━━━━━━━━━━━━━━━━━━━━━━━━━━━━━━━━━━━━━━━━\u001b[0m \u001b[32m13.0/13.0 MB\u001b[0m \u001b[31m28.9 MB/s\u001b[0m eta \u001b[36m0:00:00\u001b[0m00:01\u001b[0m00:01\u001b[0m\n",
            "\u001b[?25hRequirement already satisfied: spacy<3.7.0,>=3.6.0 in /opt/conda/lib/python3.11/site-packages (from pt-core-news-sm==3.6.0) (3.6.1)\n",
            "Requirement already satisfied: spacy-legacy<3.1.0,>=3.0.11 in /opt/conda/lib/python3.11/site-packages (from spacy<3.7.0,>=3.6.0->pt-core-news-sm==3.6.0) (3.0.12)\n",
            "Requirement already satisfied: spacy-loggers<2.0.0,>=1.0.0 in /opt/conda/lib/python3.11/site-packages (from spacy<3.7.0,>=3.6.0->pt-core-news-sm==3.6.0) (1.0.5)\n",
            "Requirement already satisfied: murmurhash<1.1.0,>=0.28.0 in /opt/conda/lib/python3.11/site-packages (from spacy<3.7.0,>=3.6.0->pt-core-news-sm==3.6.0) (1.0.10)\n",
            "Requirement already satisfied: cymem<2.1.0,>=2.0.2 in /opt/conda/lib/python3.11/site-packages (from spacy<3.7.0,>=3.6.0->pt-core-news-sm==3.6.0) (2.0.8)\n",
            "Requirement already satisfied: preshed<3.1.0,>=3.0.2 in /opt/conda/lib/python3.11/site-packages (from spacy<3.7.0,>=3.6.0->pt-core-news-sm==3.6.0) (3.0.9)\n",
            "Requirement already satisfied: thinc<8.2.0,>=8.1.8 in /opt/conda/lib/python3.11/site-packages (from spacy<3.7.0,>=3.6.0->pt-core-news-sm==3.6.0) (8.1.12)\n",
            "Requirement already satisfied: wasabi<1.2.0,>=0.9.1 in /opt/conda/lib/python3.11/site-packages (from spacy<3.7.0,>=3.6.0->pt-core-news-sm==3.6.0) (1.1.2)\n",
            "Requirement already satisfied: srsly<3.0.0,>=2.4.3 in /opt/conda/lib/python3.11/site-packages (from spacy<3.7.0,>=3.6.0->pt-core-news-sm==3.6.0) (2.4.7)\n",
            "Requirement already satisfied: catalogue<2.1.0,>=2.0.6 in /opt/conda/lib/python3.11/site-packages (from spacy<3.7.0,>=3.6.0->pt-core-news-sm==3.6.0) (2.0.9)\n",
            "Requirement already satisfied: typer<0.10.0,>=0.3.0 in /opt/conda/lib/python3.11/site-packages (from spacy<3.7.0,>=3.6.0->pt-core-news-sm==3.6.0) (0.9.0)\n",
            "Requirement already satisfied: pathy>=0.10.0 in /opt/conda/lib/python3.11/site-packages (from spacy<3.7.0,>=3.6.0->pt-core-news-sm==3.6.0) (0.10.2)\n",
            "Requirement already satisfied: smart-open<7.0.0,>=5.2.1 in /opt/conda/lib/python3.11/site-packages (from spacy<3.7.0,>=3.6.0->pt-core-news-sm==3.6.0) (6.4.0)\n",
            "Requirement already satisfied: tqdm<5.0.0,>=4.38.0 in /opt/conda/lib/python3.11/site-packages (from spacy<3.7.0,>=3.6.0->pt-core-news-sm==3.6.0) (4.66.1)\n",
            "Requirement already satisfied: numpy>=1.15.0 in /opt/conda/lib/python3.11/site-packages (from spacy<3.7.0,>=3.6.0->pt-core-news-sm==3.6.0) (1.24.3)\n",
            "Requirement already satisfied: requests<3.0.0,>=2.13.0 in /opt/conda/lib/python3.11/site-packages (from spacy<3.7.0,>=3.6.0->pt-core-news-sm==3.6.0) (2.31.0)\n",
            "Requirement already satisfied: pydantic!=1.8,!=1.8.1,<3.0.0,>=1.7.4 in /opt/conda/lib/python3.11/site-packages (from spacy<3.7.0,>=3.6.0->pt-core-news-sm==3.6.0) (2.3.0)\n",
            "Requirement already satisfied: jinja2 in /opt/conda/lib/python3.11/site-packages (from spacy<3.7.0,>=3.6.0->pt-core-news-sm==3.6.0) (3.1.2)\n",
            "Requirement already satisfied: setuptools in /opt/conda/lib/python3.11/site-packages (from spacy<3.7.0,>=3.6.0->pt-core-news-sm==3.6.0) (68.1.2)\n",
            "Requirement already satisfied: packaging>=20.0 in /opt/conda/lib/python3.11/site-packages (from spacy<3.7.0,>=3.6.0->pt-core-news-sm==3.6.0) (23.1)\n",
            "Requirement already satisfied: langcodes<4.0.0,>=3.2.0 in /opt/conda/lib/python3.11/site-packages (from spacy<3.7.0,>=3.6.0->pt-core-news-sm==3.6.0) (3.3.0)\n",
            "Requirement already satisfied: annotated-types>=0.4.0 in /opt/conda/lib/python3.11/site-packages (from pydantic!=1.8,!=1.8.1,<3.0.0,>=1.7.4->spacy<3.7.0,>=3.6.0->pt-core-news-sm==3.6.0) (0.5.0)\n",
            "Requirement already satisfied: pydantic-core==2.6.3 in /opt/conda/lib/python3.11/site-packages (from pydantic!=1.8,!=1.8.1,<3.0.0,>=1.7.4->spacy<3.7.0,>=3.6.0->pt-core-news-sm==3.6.0) (2.6.3)\n",
            "Requirement already satisfied: typing-extensions>=4.6.1 in /opt/conda/lib/python3.11/site-packages (from pydantic!=1.8,!=1.8.1,<3.0.0,>=1.7.4->spacy<3.7.0,>=3.6.0->pt-core-news-sm==3.6.0) (4.7.1)\n",
            "Requirement already satisfied: charset-normalizer<4,>=2 in /opt/conda/lib/python3.11/site-packages (from requests<3.0.0,>=2.13.0->spacy<3.7.0,>=3.6.0->pt-core-news-sm==3.6.0) (3.2.0)\n",
            "Requirement already satisfied: idna<4,>=2.5 in /opt/conda/lib/python3.11/site-packages (from requests<3.0.0,>=2.13.0->spacy<3.7.0,>=3.6.0->pt-core-news-sm==3.6.0) (3.4)\n",
            "Requirement already satisfied: urllib3<3,>=1.21.1 in /opt/conda/lib/python3.11/site-packages (from requests<3.0.0,>=2.13.0->spacy<3.7.0,>=3.6.0->pt-core-news-sm==3.6.0) (1.26.16)\n",
            "Requirement already satisfied: certifi>=2017.4.17 in /opt/conda/lib/python3.11/site-packages (from requests<3.0.0,>=2.13.0->spacy<3.7.0,>=3.6.0->pt-core-news-sm==3.6.0) (2023.7.22)\n",
            "Requirement already satisfied: blis<0.8.0,>=0.7.8 in /opt/conda/lib/python3.11/site-packages (from thinc<8.2.0,>=8.1.8->spacy<3.7.0,>=3.6.0->pt-core-news-sm==3.6.0) (0.7.10)\n",
            "Requirement already satisfied: confection<1.0.0,>=0.0.1 in /opt/conda/lib/python3.11/site-packages (from thinc<8.2.0,>=8.1.8->spacy<3.7.0,>=3.6.0->pt-core-news-sm==3.6.0) (0.1.3)\n",
            "Requirement already satisfied: click<9.0.0,>=7.1.1 in /opt/conda/lib/python3.11/site-packages (from typer<0.10.0,>=0.3.0->spacy<3.7.0,>=3.6.0->pt-core-news-sm==3.6.0) (8.1.7)\n",
            "Requirement already satisfied: MarkupSafe>=2.0 in /opt/conda/lib/python3.11/site-packages (from jinja2->spacy<3.7.0,>=3.6.0->pt-core-news-sm==3.6.0) (2.1.3)\n",
            "\u001b[38;5;2m✔ Download and installation successful\u001b[0m\n",
            "You can now load the package via spacy.load('pt_core_news_sm')\n"
          ]
        }
      ],
      "source": [
        "# Instalar dependências do python\n",
        "%pip install nltk\n",
        "%pip install spacy\n",
        "!python -m spacy download pt_core_news_sm\n",
        "#!python -m spacy download pt_core_news_lg"
      ]
    },
    {
      "cell_type": "code",
      "execution_count": 2,
      "metadata": {
        "id": "fBd7FAeiarT0"
      },
      "outputs": [],
      "source": [
        "# Importar bibliotecas necessárias para este projeto\n",
        "from nltk.tokenize import word_tokenize\n",
        "import nltk\n",
        "import pandas as pd\n",
        "import spacy"
      ]
    },
    {
      "cell_type": "code",
      "execution_count": 3,
      "metadata": {
        "colab": {
          "base_uri": "https://localhost:8080/"
        },
        "id": "Gtm_aD7wtEte",
        "outputId": "a06b701c-5251-4442-9178-68e44f16b878"
      },
      "outputs": [
        {
          "name": "stderr",
          "output_type": "stream",
          "text": [
            "[nltk_data] Downloading package stopwords to /home/jovyan/nltk_data...\n",
            "[nltk_data]   Package stopwords is already up-to-date!\n",
            "[nltk_data] Downloading package punkt to /home/jovyan/nltk_data...\n",
            "[nltk_data]   Package punkt is already up-to-date!\n",
            "[nltk_data] Downloading package wordnet to /home/jovyan/nltk_data...\n",
            "[nltk_data]   Package wordnet is already up-to-date!\n"
          ]
        },
        {
          "data": {
            "text/plain": [
              "True"
            ]
          },
          "execution_count": 3,
          "metadata": {},
          "output_type": "execute_result"
        }
      ],
      "source": [
        "# Instalar dependências do nltk e spacy\n",
        "nltk.download('stopwords')\n",
        "nltk.download('punkt')\n",
        "nltk.download('wordnet')"
      ]
    },
    {
      "cell_type": "code",
      "execution_count": 4,
      "metadata": {},
      "outputs": [],
      "source": [
        "# Permitir visualizar toda a ementa das leis\n",
        "pd.set_option('display.max_colwidth', None)"
      ]
    },
    {
      "cell_type": "markdown",
      "metadata": {
        "id": "6blVLBKKqVSb"
      },
      "source": [
        "# **Carregando os dados**\n",
        "Para este trabalho, vamos utilizar somente as ementas das leis."
      ]
    },
    {
      "cell_type": "code",
      "execution_count": 29,
      "metadata": {
        "id": "ioJNwBhZqdXx"
      },
      "outputs": [
        {
          "data": {
            "text/html": [
              "<div>\n",
              "<style scoped>\n",
              "    .dataframe tbody tr th:only-of-type {\n",
              "        vertical-align: middle;\n",
              "    }\n",
              "\n",
              "    .dataframe tbody tr th {\n",
              "        vertical-align: top;\n",
              "    }\n",
              "\n",
              "    .dataframe thead th {\n",
              "        text-align: right;\n",
              "    }\n",
              "</style>\n",
              "<table border=\"1\" class=\"dataframe\">\n",
              "  <thead>\n",
              "    <tr style=\"text-align: right;\">\n",
              "      <th></th>\n",
              "      <th>summary</th>\n",
              "    </tr>\n",
              "  </thead>\n",
              "  <tbody>\n",
              "    <tr>\n",
              "      <th>0</th>\n",
              "      <td>dispõe sobre denominação de josé antonio pascoto a uma via pública</td>\n",
              "    </tr>\n",
              "    <tr>\n",
              "      <th>1</th>\n",
              "      <td>dispõe sobre denominação de vitor hage a uma via pública e dá outras providências</td>\n",
              "    </tr>\n",
              "    <tr>\n",
              "      <th>2</th>\n",
              "      <td>dispõe sobre denominação de lisardo cunha dias a uma via pública e dá outras providências</td>\n",
              "    </tr>\n",
              "    <tr>\n",
              "      <th>3</th>\n",
              "      <td>dispõe sobre denominação de desirre ferraz cardoso a uma via pública de nossa cidade e dá outras providências</td>\n",
              "    </tr>\n",
              "    <tr>\n",
              "      <th>4</th>\n",
              "      <td>institui no calendário oficial do município o dia do sociólogo e dá outras providências</td>\n",
              "    </tr>\n",
              "  </tbody>\n",
              "</table>\n",
              "</div>"
            ],
            "text/plain": [
              "                                                                                                         summary\n",
              "0                                             dispõe sobre denominação de josé antonio pascoto a uma via pública\n",
              "1                              dispõe sobre denominação de vitor hage a uma via pública e dá outras providências\n",
              "2                      dispõe sobre denominação de lisardo cunha dias a uma via pública e dá outras providências\n",
              "3  dispõe sobre denominação de desirre ferraz cardoso a uma via pública de nossa cidade e dá outras providências\n",
              "4                        institui no calendário oficial do município o dia do sociólogo e dá outras providências"
            ]
          },
          "execution_count": 29,
          "metadata": {},
          "output_type": "execute_result"
        }
      ],
      "source": [
        "# Carregar a base de dados mais atual\n",
        "df = pd.read_csv('data/Leis de Sorocaba (Clean).csv')\n",
        "df.fillna('', inplace=True)\n",
        "df.head()"
      ]
    },
    {
      "cell_type": "code",
      "execution_count": 30,
      "metadata": {},
      "outputs": [
        {
          "name": "stdout",
          "output_type": "stream",
          "text": [
            "<class 'pandas.core.frame.DataFrame'>\n",
            "RangeIndex: 12812 entries, 0 to 12811\n",
            "Data columns (total 1 columns):\n",
            " #   Column   Non-Null Count  Dtype \n",
            "---  ------   --------------  ----- \n",
            " 0   summary  12812 non-null  object\n",
            "dtypes: object(1)\n",
            "memory usage: 100.2+ KB\n"
          ]
        }
      ],
      "source": [
        "df.info()"
      ]
    },
    {
      "cell_type": "markdown",
      "metadata": {
        "id": "aOsqv4PEn5oK"
      },
      "source": [
        "# **Processamento baseado no vocabulário**"
      ]
    },
    {
      "cell_type": "markdown",
      "metadata": {
        "id": "bkpezdas4iFs"
      },
      "source": [
        "## **Remoção de stopwords**"
      ]
    },
    {
      "cell_type": "code",
      "execution_count": 7,
      "metadata": {
        "id": "l0Godc-xs-3E"
      },
      "outputs": [],
      "source": [
        "# Recuperar lista de stopwords em português\n",
        "stopwords = nltk.corpus.stopwords.words('portuguese')\n",
        "\n",
        "# Remover stopwords\n",
        "def remove_stopwords(text):\n",
        "  words = word_tokenize(text)\n",
        "\n",
        "  stop = set(stopwords)\n",
        "  filtered_sentence = [w for w in words if w not in stop]\n",
        "\n",
        "  # Juntar os tokens novamente em formato de texto\n",
        "  return \" \".join(filtered_sentence)"
      ]
    },
    {
      "cell_type": "code",
      "execution_count": 8,
      "metadata": {
        "colab": {
          "base_uri": "https://localhost:8080/",
          "height": 35
        },
        "id": "uvrgdkJkuI49",
        "outputId": "c67d6082-4c14-4d2d-da4f-0360536a9ca4"
      },
      "outputs": [
        {
          "data": {
            "text/plain": [
              "'dispõe sobre denominação josé antonio pascoto via pública'"
            ]
          },
          "execution_count": 8,
          "metadata": {},
          "output_type": "execute_result"
        }
      ],
      "source": [
        "remove_stopwords(df['summary'][0])"
      ]
    },
    {
      "cell_type": "code",
      "execution_count": 9,
      "metadata": {
        "colab": {
          "base_uri": "https://localhost:8080/",
          "height": 35
        },
        "id": "P2jRtHtEuKJh",
        "outputId": "3829897e-c48d-47c6-c15b-869495434f1a"
      },
      "outputs": [
        {
          "data": {
            "text/plain": [
              "'institui calendário oficial município dia sociólogo dá outras providências'"
            ]
          },
          "execution_count": 9,
          "metadata": {},
          "output_type": "execute_result"
        }
      ],
      "source": [
        "remove_stopwords(df['summary'][4])"
      ]
    },
    {
      "cell_type": "code",
      "execution_count": 10,
      "metadata": {},
      "outputs": [
        {
          "data": {
            "text/plain": [
              "'institui âmbito município sorocaba programa melhorias habitacionais reforma moradias inseridas zonas áreas especial interesse social aeis/zeis dá outras providências'"
            ]
          },
          "execution_count": 10,
          "metadata": {},
          "output_type": "execute_result"
        }
      ],
      "source": [
        "remove_stopwords(df['summary'][23])"
      ]
    },
    {
      "cell_type": "code",
      "execution_count": 11,
      "metadata": {
        "colab": {
          "base_uri": "https://localhost:8080/",
          "height": 35
        },
        "id": "8h___80iu1ne",
        "outputId": "1a4b09a9-a78d-43f3-eb11-f9caec25ba93"
      },
      "outputs": [
        {
          "data": {
            "text/plain": [
              "'declara utilidade pública associação classic sports a.c.s dá outras providências'"
            ]
          },
          "execution_count": 11,
          "metadata": {},
          "output_type": "execute_result"
        }
      ],
      "source": [
        "remove_stopwords(df['summary'][214])"
      ]
    },
    {
      "cell_type": "code",
      "execution_count": 12,
      "metadata": {
        "colab": {
          "base_uri": "https://localhost:8080/",
          "height": 35
        },
        "id": "nGjlygTavFW1",
        "outputId": "28bf20a4-b1fa-45c6-a38f-6ad47bb2123d"
      },
      "outputs": [
        {
          "data": {
            "text/plain": [
              "'dispõe sobre revogação lei Nº # TOKEN_DATA dá outras providências'"
            ]
          },
          "execution_count": 12,
          "metadata": {},
          "output_type": "execute_result"
        }
      ],
      "source": [
        "remove_stopwords(df['summary'][2000])"
      ]
    },
    {
      "cell_type": "code",
      "execution_count": 13,
      "metadata": {
        "colab": {
          "base_uri": "https://localhost:8080/",
          "height": 35
        },
        "id": "eYgqZmBcvHS-",
        "outputId": "691613eb-5137-43cc-8b55-35ab39e06164"
      },
      "outputs": [
        {
          "data": {
            "text/plain": [
              "'dá nova redação artigo # lei Nº # TOKEN_DATA'"
            ]
          },
          "execution_count": 13,
          "metadata": {},
          "output_type": "execute_result"
        }
      ],
      "source": [
        "remove_stopwords(df['summary'][10699])"
      ]
    },
    {
      "cell_type": "markdown",
      "metadata": {
        "id": "g9CESACz4tSl"
      },
      "source": [
        "## **Lemmatização**"
      ]
    },
    {
      "cell_type": "code",
      "execution_count": 14,
      "metadata": {
        "id": "FJK4HalaxIhg"
      },
      "outputs": [],
      "source": [
        "# Remover stopwords\n",
        "def lemmatize(text):\n",
        "  nlp = spacy.load(\"pt_core_news_sm\")\n",
        "  doc = nlp(text)\n",
        "  lemmatized_sentence = [token.lemma_ for token in doc]\n",
        "\n",
        "  # Juntar os tokens novamente em formato de texto\n",
        "  return \" \".join(lemmatized_sentence)"
      ]
    },
    {
      "cell_type": "code",
      "execution_count": 15,
      "metadata": {
        "colab": {
          "base_uri": "https://localhost:8080/",
          "height": 35
        },
        "id": "_q-egPru40J1",
        "outputId": "c6e4f6f8-457a-4ee0-cc4c-e5ed303c6c49"
      },
      "outputs": [
        {
          "data": {
            "text/plain": [
              "'dispor sobre denominação de José Antonio pascoto a um via público'"
            ]
          },
          "execution_count": 15,
          "metadata": {},
          "output_type": "execute_result"
        }
      ],
      "source": [
        "lemmatize(df['summary'][0])"
      ]
    },
    {
      "cell_type": "code",
      "execution_count": 16,
      "metadata": {
        "colab": {
          "base_uri": "https://localhost:8080/",
          "height": 35
        },
        "id": "GFBwzFI240J6",
        "outputId": "b263aaee-37ac-45ff-c049-5d4f28571fe0"
      },
      "outputs": [
        {
          "data": {
            "text/plain": [
              "'instituir em o calendário oficial de o município o dia de o sociólogo e dar outro providência'"
            ]
          },
          "execution_count": 16,
          "metadata": {},
          "output_type": "execute_result"
        }
      ],
      "source": [
        "lemmatize(df['summary'][4])"
      ]
    },
    {
      "cell_type": "code",
      "execution_count": 17,
      "metadata": {},
      "outputs": [
        {
          "data": {
            "text/plain": [
              "'instituir em o âmbito de o município de sorocaba o programa de melhoria habitacional para reforma de moradia inserir em zona ou área de especial interesse social ael / zel e dar outro providência'"
            ]
          },
          "execution_count": 17,
          "metadata": {},
          "output_type": "execute_result"
        }
      ],
      "source": [
        "lemmatize(df['summary'][23])"
      ]
    },
    {
      "cell_type": "code",
      "execution_count": 18,
      "metadata": {
        "colab": {
          "base_uri": "https://localhost:8080/",
          "height": 35
        },
        "id": "tWO0-pwH40J6",
        "outputId": "2f057526-57d6-4f5f-a6f6-b56c6088a116"
      },
      "outputs": [
        {
          "data": {
            "text/plain": [
              "'declarar de utilidade público o Associação Classic Sports a.c.s e dar outro providência'"
            ]
          },
          "execution_count": 18,
          "metadata": {},
          "output_type": "execute_result"
        }
      ],
      "source": [
        "lemmatize(df['summary'][214])"
      ]
    },
    {
      "cell_type": "code",
      "execution_count": 19,
      "metadata": {
        "colab": {
          "base_uri": "https://localhost:8080/",
          "height": 35
        },
        "id": "N0wpbQBC40J6",
        "outputId": "31997732-da50-4e0c-c82a-b258fa812602"
      },
      "outputs": [
        {
          "data": {
            "text/plain": [
              "'dispor sobre o revogação de o lei Nº   #   de TOKEN_DATA e dar outro providência'"
            ]
          },
          "execution_count": 19,
          "metadata": {},
          "output_type": "execute_result"
        }
      ],
      "source": [
        "lemmatize(df['summary'][2000])"
      ]
    },
    {
      "cell_type": "code",
      "execution_count": 20,
      "metadata": {
        "colab": {
          "base_uri": "https://localhost:8080/",
          "height": 35
        },
        "id": "pAG94Uzy40J6",
        "outputId": "b4097cc9-7b92-4dfa-9220-e45ac6f88719"
      },
      "outputs": [
        {
          "data": {
            "text/plain": [
              "'dar novo redação a o artigo   #   de o lei Nº   #   de TOKEN_DATA'"
            ]
          },
          "execution_count": 20,
          "metadata": {},
          "output_type": "execute_result"
        }
      ],
      "source": [
        "lemmatize(df['summary'][10699])"
      ]
    },
    {
      "cell_type": "markdown",
      "metadata": {
        "id": "IluKiMkg6Bw6"
      },
      "source": [
        "## **Aplicando no dataset**"
      ]
    },
    {
      "cell_type": "code",
      "execution_count": 21,
      "metadata": {
        "id": "4gZbmmEV8zpj"
      },
      "outputs": [],
      "source": [
        "nlp = spacy.load(\"pt_core_news_sm\")\n",
        "stop = set([word for word in nltk.corpus.stopwords.words('portuguese')])\n",
        "\n",
        "def lemmatize_and_remove_stopwords(text):\n",
        "    # Processa o texto com o Spacy\n",
        "    doc = nlp(text)\n",
        "    # Removendo stopwords e depois lematizando\n",
        "    sentence = [token.lemma_ for token in doc if token.text not in stop]\n",
        "    # Juntar os tokens novamente em formato de texto\n",
        "    return pd.Series(\" \".join(sentence))\n"
      ]
    },
    {
      "cell_type": "code",
      "execution_count": 22,
      "metadata": {},
      "outputs": [
        {
          "data": {
            "text/plain": [
              "'dispõe sobre a revogação da lei Nº  #  de TOKEN_DATA e dá outras providências'"
            ]
          },
          "execution_count": 22,
          "metadata": {},
          "output_type": "execute_result"
        }
      ],
      "source": [
        "df['summary'][2000]"
      ]
    },
    {
      "cell_type": "code",
      "execution_count": 23,
      "metadata": {
        "colab": {
          "base_uri": "https://localhost:8080/"
        },
        "id": "xiH4s1ri9Wj5",
        "outputId": "f0ac00f8-772e-4209-c374-fcd17bfe75a4"
      },
      "outputs": [
        {
          "data": {
            "text/plain": [
              "0    dispor sobre revogação lei Nº   #   TOKEN_DATA dar outro providência\n",
              "dtype: object"
            ]
          },
          "execution_count": 23,
          "metadata": {},
          "output_type": "execute_result"
        }
      ],
      "source": [
        "lemmatize_and_remove_stopwords(df['summary'][2000])"
      ]
    },
    {
      "cell_type": "code",
      "execution_count": 31,
      "metadata": {
        "id": "YEM1jQwvxbca"
      },
      "outputs": [],
      "source": [
        "df['summary'] = df['summary'].apply(remove_stopwords)"
      ]
    },
    {
      "cell_type": "code",
      "execution_count": 32,
      "metadata": {},
      "outputs": [
        {
          "data": {
            "text/html": [
              "<div>\n",
              "<style scoped>\n",
              "    .dataframe tbody tr th:only-of-type {\n",
              "        vertical-align: middle;\n",
              "    }\n",
              "\n",
              "    .dataframe tbody tr th {\n",
              "        vertical-align: top;\n",
              "    }\n",
              "\n",
              "    .dataframe thead th {\n",
              "        text-align: right;\n",
              "    }\n",
              "</style>\n",
              "<table border=\"1\" class=\"dataframe\">\n",
              "  <thead>\n",
              "    <tr style=\"text-align: right;\">\n",
              "      <th></th>\n",
              "      <th>summary</th>\n",
              "    </tr>\n",
              "  </thead>\n",
              "  <tbody>\n",
              "    <tr>\n",
              "      <th>0</th>\n",
              "      <td>dispõe sobre denominação josé antonio pascoto via pública</td>\n",
              "    </tr>\n",
              "    <tr>\n",
              "      <th>1</th>\n",
              "      <td>dispõe sobre denominação vitor hage via pública dá outras providências</td>\n",
              "    </tr>\n",
              "    <tr>\n",
              "      <th>2</th>\n",
              "      <td>dispõe sobre denominação lisardo cunha dias via pública dá outras providências</td>\n",
              "    </tr>\n",
              "    <tr>\n",
              "      <th>3</th>\n",
              "      <td>dispõe sobre denominação desirre ferraz cardoso via pública cidade dá outras providências</td>\n",
              "    </tr>\n",
              "    <tr>\n",
              "      <th>4</th>\n",
              "      <td>institui calendário oficial município dia sociólogo dá outras providências</td>\n",
              "    </tr>\n",
              "    <tr>\n",
              "      <th>...</th>\n",
              "      <td>...</td>\n",
              "    </tr>\n",
              "    <tr>\n",
              "      <th>12807</th>\n",
              "      <td>dispõe sobre abertura crédito especial $ TOKEN_VALOR</td>\n",
              "    </tr>\n",
              "    <tr>\n",
              "      <th>12808</th>\n",
              "      <td>dispõe sobre concessão auxílio dá outras providências</td>\n",
              "    </tr>\n",
              "    <tr>\n",
              "      <th>12809</th>\n",
              "      <td>dispõe sobre concessão licença prêmio funcionários municipais</td>\n",
              "    </tr>\n",
              "    <tr>\n",
              "      <th>12810</th>\n",
              "      <td>dispõe sobre apreensão eliminação animais</td>\n",
              "    </tr>\n",
              "    <tr>\n",
              "      <th>12811</th>\n",
              "      <td>autoriza efetuar pagamento funcionário reintegrado quadro dá outras providências</td>\n",
              "    </tr>\n",
              "  </tbody>\n",
              "</table>\n",
              "<p>12812 rows × 1 columns</p>\n",
              "</div>"
            ],
            "text/plain": [
              "                                                                                         summary\n",
              "0                                      dispõe sobre denominação josé antonio pascoto via pública\n",
              "1                         dispõe sobre denominação vitor hage via pública dá outras providências\n",
              "2                 dispõe sobre denominação lisardo cunha dias via pública dá outras providências\n",
              "3      dispõe sobre denominação desirre ferraz cardoso via pública cidade dá outras providências\n",
              "4                     institui calendário oficial município dia sociólogo dá outras providências\n",
              "...                                                                                          ...\n",
              "12807                                       dispõe sobre abertura crédito especial $ TOKEN_VALOR\n",
              "12808                                      dispõe sobre concessão auxílio dá outras providências\n",
              "12809                              dispõe sobre concessão licença prêmio funcionários municipais\n",
              "12810                                                  dispõe sobre apreensão eliminação animais\n",
              "12811           autoriza efetuar pagamento funcionário reintegrado quadro dá outras providências\n",
              "\n",
              "[12812 rows x 1 columns]"
            ]
          },
          "execution_count": 32,
          "metadata": {},
          "output_type": "execute_result"
        }
      ],
      "source": [
        "df"
      ]
    },
    {
      "cell_type": "markdown",
      "metadata": {},
      "source": [
        "# **Salvando o resultado final**"
      ]
    },
    {
      "cell_type": "code",
      "execution_count": 33,
      "metadata": {
        "id": "m99-OiT29ipY"
      },
      "outputs": [],
      "source": [
        "# Salvar o dataset\n",
        "df.to_csv('data/Leis de Sorocaba (Preprocessed).csv', index=False)"
      ]
    },
    {
      "cell_type": "code",
      "execution_count": null,
      "metadata": {},
      "outputs": [],
      "source": []
    }
  ],
  "metadata": {
    "colab": {
      "provenance": [],
      "toc_visible": true
    },
    "kernelspec": {
      "display_name": "Python 3 (ipykernel)",
      "language": "python",
      "name": "python3"
    },
    "language_info": {
      "codemirror_mode": {
        "name": "ipython",
        "version": 3
      },
      "file_extension": ".py",
      "mimetype": "text/x-python",
      "name": "python",
      "nbconvert_exporter": "python",
      "pygments_lexer": "ipython3",
      "version": "3.11.5"
    }
  },
  "nbformat": 4,
  "nbformat_minor": 0
}
